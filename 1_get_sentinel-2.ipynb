{
 "cells": [
  {
   "cell_type": "code",
   "execution_count": 1,
   "metadata": {},
   "outputs": [],
   "source": [
    "import os, glob, re\n",
    "from datetime import date\n",
    "import numpy as np\n",
    "from sentinelsat import SentinelAPI, read_geojson, geojson_to_wkt\n",
    "import geopandas as gpd\n",
    "import pandas as pd\n",
    "import matplotlib.pyplot as plt\n",
    "import matplotlib.image as mpimg\n",
    "from osgeo import gdal\n",
    "import json, geojson\n",
    "import rasterio as rio\n",
    "from rasterio.plot import show\n",
    "import rasterio.mask\n",
    "import fiona\n",
    "import folium\n",
    "from PIL import Image\n",
    "import earthpy.plot as ep\n",
    "\n",
    "import warnings\n",
    "warnings.filterwarnings('ignore')\n",
    "plt.rcParams['figure.dpi'] = 250"
   ]
  },
  {
   "cell_type": "code",
   "execution_count": 2,
   "metadata": {},
   "outputs": [
    {
     "data": {
      "text/html": [
       "\n",
       "        <iframe\n",
       "            width=\"960\"\n",
       "            height=\"500\"\n",
       "            src=\"https://www.keene.edu/campus/maps/tool/\"\n",
       "            frameborder=\"0\"\n",
       "            allowfullscreen\n",
       "            \n",
       "        ></iframe>\n",
       "        "
      ],
      "text/plain": [
       "<IPython.lib.display.IFrame at 0x10e585a20>"
      ]
     },
     "execution_count": 2,
     "metadata": {},
     "output_type": "execute_result"
    }
   ],
   "source": [
    "from IPython.display import IFrame\n",
    "src = 'https://www.keene.edu/campus/maps/tool/'\n",
    "IFrame(src, width=960, height=500)"
   ]
  },
  {
   "cell_type": "code",
   "execution_count": 3,
   "metadata": {},
   "outputs": [],
   "source": [
    "AREA = [\n",
    "    [\n",
    "        139.708159,\n",
    "        35.6593884   \n",
    "    ],\n",
    "    [\n",
    "        139.7067857,\n",
    "        35.4817801\n",
    "    ],\n",
    "    [\n",
    "        139.8619676,\n",
    "        35.4817801\n",
    "    ],\n",
    "    [\n",
    "        139.8578477,\n",
    "        35.6493456\n",
    "    ],\n",
    "    [\n",
    "        139.708159,\n",
    "        35.6593884   \n",
    "    ]\n",
    "]"
   ]
  },
  {
   "cell_type": "code",
   "execution_count": 4,
   "metadata": {},
   "outputs": [],
   "source": [
    "for i in range(len(AREA)):\n",
    "    if AREA[i][0] >= 0:\n",
    "        AREA[i][0] = AREA[i][0]%360\n",
    "    else:\n",
    "        AREA[i][0] = -(abs(AREA[i][0]%360) + 360)"
   ]
  },
  {
   "cell_type": "code",
   "execution_count": 5,
   "metadata": {},
   "outputs": [],
   "source": [
    "m = geojson.Polygon([AREA])\n",
    "\n",
    "object_name = 'Tokyo_Bay'\n",
    "\n",
    "with open(str(object_name) + '.geojson', 'w') as f:\n",
    "    json.dump(m, f)\n",
    "footprint_geojson = geojson_to_wkt(read_geojson(str(object_name) + '.geojson'))"
   ]
  },
  {
   "cell_type": "code",
   "execution_count": 6,
   "metadata": {},
   "outputs": [],
   "source": [
    "user = 'wing787'\n",
    "password = 'wing787_api'\n",
    "api = SentinelAPI(user, password, 'https://scihub.copernicus.eu/dhus')"
   ]
  },
  {
   "cell_type": "code",
   "execution_count": 7,
   "metadata": {},
   "outputs": [
    {
     "data": {
      "text/html": [
       "<div style=\"width:100%;\"><div style=\"position:relative;width:100%;height:0;padding-bottom:60%;\"><span style=\"color:#565656\">Make this Notebook Trusted to load map: File -> Trust Notebook</span><iframe src=\"about:blank\" style=\"position:absolute;width:100%;height:100%;left:0;top:0;border:none !important;\" data-html=%3C%21DOCTYPE%20html%3E%0A%3Chead%3E%20%20%20%20%0A%20%20%20%20%3Cmeta%20http-equiv%3D%22content-type%22%20content%3D%22text/html%3B%20charset%3DUTF-8%22%20/%3E%0A%20%20%20%20%0A%20%20%20%20%20%20%20%20%3Cscript%3E%0A%20%20%20%20%20%20%20%20%20%20%20%20L_NO_TOUCH%20%3D%20false%3B%0A%20%20%20%20%20%20%20%20%20%20%20%20L_DISABLE_3D%20%3D%20false%3B%0A%20%20%20%20%20%20%20%20%3C/script%3E%0A%20%20%20%20%0A%20%20%20%20%3Cstyle%3Ehtml%2C%20body%20%7Bwidth%3A%20100%25%3Bheight%3A%20100%25%3Bmargin%3A%200%3Bpadding%3A%200%3B%7D%3C/style%3E%0A%20%20%20%20%3Cstyle%3E%23map%20%7Bposition%3Aabsolute%3Btop%3A0%3Bbottom%3A0%3Bright%3A0%3Bleft%3A0%3B%7D%3C/style%3E%0A%20%20%20%20%3Cscript%20src%3D%22https%3A//cdn.jsdelivr.net/npm/leaflet%401.6.0/dist/leaflet.js%22%3E%3C/script%3E%0A%20%20%20%20%3Cscript%20src%3D%22https%3A//code.jquery.com/jquery-1.12.4.min.js%22%3E%3C/script%3E%0A%20%20%20%20%3Cscript%20src%3D%22https%3A//maxcdn.bootstrapcdn.com/bootstrap/3.2.0/js/bootstrap.min.js%22%3E%3C/script%3E%0A%20%20%20%20%3Cscript%20src%3D%22https%3A//cdnjs.cloudflare.com/ajax/libs/Leaflet.awesome-markers/2.0.2/leaflet.awesome-markers.js%22%3E%3C/script%3E%0A%20%20%20%20%3Clink%20rel%3D%22stylesheet%22%20href%3D%22https%3A//cdn.jsdelivr.net/npm/leaflet%401.6.0/dist/leaflet.css%22/%3E%0A%20%20%20%20%3Clink%20rel%3D%22stylesheet%22%20href%3D%22https%3A//maxcdn.bootstrapcdn.com/bootstrap/3.2.0/css/bootstrap.min.css%22/%3E%0A%20%20%20%20%3Clink%20rel%3D%22stylesheet%22%20href%3D%22https%3A//maxcdn.bootstrapcdn.com/bootstrap/3.2.0/css/bootstrap-theme.min.css%22/%3E%0A%20%20%20%20%3Clink%20rel%3D%22stylesheet%22%20href%3D%22https%3A//maxcdn.bootstrapcdn.com/font-awesome/4.6.3/css/font-awesome.min.css%22/%3E%0A%20%20%20%20%3Clink%20rel%3D%22stylesheet%22%20href%3D%22https%3A//cdnjs.cloudflare.com/ajax/libs/Leaflet.awesome-markers/2.0.2/leaflet.awesome-markers.css%22/%3E%0A%20%20%20%20%3Clink%20rel%3D%22stylesheet%22%20href%3D%22https%3A//cdn.jsdelivr.net/gh/python-visualization/folium/folium/templates/leaflet.awesome.rotate.min.css%22/%3E%0A%20%20%20%20%0A%20%20%20%20%20%20%20%20%20%20%20%20%3Cmeta%20name%3D%22viewport%22%20content%3D%22width%3Ddevice-width%2C%0A%20%20%20%20%20%20%20%20%20%20%20%20%20%20%20%20initial-scale%3D1.0%2C%20maximum-scale%3D1.0%2C%20user-scalable%3Dno%22%20/%3E%0A%20%20%20%20%20%20%20%20%20%20%20%20%3Cstyle%3E%0A%20%20%20%20%20%20%20%20%20%20%20%20%20%20%20%20%23map_90eadbd5b1f240d9b11a328c2be77874%20%7B%0A%20%20%20%20%20%20%20%20%20%20%20%20%20%20%20%20%20%20%20%20position%3A%20relative%3B%0A%20%20%20%20%20%20%20%20%20%20%20%20%20%20%20%20%20%20%20%20width%3A%20100.0%25%3B%0A%20%20%20%20%20%20%20%20%20%20%20%20%20%20%20%20%20%20%20%20height%3A%20100.0%25%3B%0A%20%20%20%20%20%20%20%20%20%20%20%20%20%20%20%20%20%20%20%20left%3A%200.0%25%3B%0A%20%20%20%20%20%20%20%20%20%20%20%20%20%20%20%20%20%20%20%20top%3A%200.0%25%3B%0A%20%20%20%20%20%20%20%20%20%20%20%20%20%20%20%20%7D%0A%20%20%20%20%20%20%20%20%20%20%20%20%3C/style%3E%0A%20%20%20%20%20%20%20%20%0A%3C/head%3E%0A%3Cbody%3E%20%20%20%20%0A%20%20%20%20%0A%20%20%20%20%20%20%20%20%20%20%20%20%3Cdiv%20class%3D%22folium-map%22%20id%3D%22map_90eadbd5b1f240d9b11a328c2be77874%22%20%3E%3C/div%3E%0A%20%20%20%20%20%20%20%20%0A%3C/body%3E%0A%3Cscript%3E%20%20%20%20%0A%20%20%20%20%0A%20%20%20%20%20%20%20%20%20%20%20%20var%20map_90eadbd5b1f240d9b11a328c2be77874%20%3D%20L.map%28%0A%20%20%20%20%20%20%20%20%20%20%20%20%20%20%20%20%22map_90eadbd5b1f240d9b11a328c2be77874%22%2C%0A%20%20%20%20%20%20%20%20%20%20%20%20%20%20%20%20%7B%0A%20%20%20%20%20%20%20%20%20%20%20%20%20%20%20%20%20%20%20%20center%3A%20%5B35.6593884%2C%20139.708159%5D%2C%0A%20%20%20%20%20%20%20%20%20%20%20%20%20%20%20%20%20%20%20%20crs%3A%20L.CRS.EPSG3857%2C%0A%20%20%20%20%20%20%20%20%20%20%20%20%20%20%20%20%20%20%20%20zoom%3A%2010%2C%0A%20%20%20%20%20%20%20%20%20%20%20%20%20%20%20%20%20%20%20%20zoomControl%3A%20true%2C%0A%20%20%20%20%20%20%20%20%20%20%20%20%20%20%20%20%20%20%20%20preferCanvas%3A%20false%2C%0A%20%20%20%20%20%20%20%20%20%20%20%20%20%20%20%20%7D%0A%20%20%20%20%20%20%20%20%20%20%20%20%29%3B%0A%0A%20%20%20%20%20%20%20%20%20%20%20%20%0A%0A%20%20%20%20%20%20%20%20%0A%20%20%20%20%0A%20%20%20%20%20%20%20%20%20%20%20%20var%20tile_layer_41c45061be3042c482b5c416a9c9a045%20%3D%20L.tileLayer%28%0A%20%20%20%20%20%20%20%20%20%20%20%20%20%20%20%20%22https%3A//%7Bs%7D.tile.openstreetmap.org/%7Bz%7D/%7Bx%7D/%7By%7D.png%22%2C%0A%20%20%20%20%20%20%20%20%20%20%20%20%20%20%20%20%7B%22attribution%22%3A%20%22Data%20by%20%5Cu0026copy%3B%20%5Cu003ca%20href%3D%5C%22http%3A//openstreetmap.org%5C%22%5Cu003eOpenStreetMap%5Cu003c/a%5Cu003e%2C%20under%20%5Cu003ca%20href%3D%5C%22http%3A//www.openstreetmap.org/copyright%5C%22%5Cu003eODbL%5Cu003c/a%5Cu003e.%22%2C%20%22detectRetina%22%3A%20false%2C%20%22maxNativeZoom%22%3A%2018%2C%20%22maxZoom%22%3A%2018%2C%20%22minZoom%22%3A%200%2C%20%22noWrap%22%3A%20false%2C%20%22opacity%22%3A%201%2C%20%22subdomains%22%3A%20%22abc%22%2C%20%22tms%22%3A%20false%7D%0A%20%20%20%20%20%20%20%20%20%20%20%20%29.addTo%28map_90eadbd5b1f240d9b11a328c2be77874%29%3B%0A%20%20%20%20%20%20%20%20%0A%20%20%20%20%0A%0A%20%20%20%20%20%20%20%20function%20geo_json_e2b24ecfed8946379f702c7ce47b589b_onEachFeature%28feature%2C%20layer%29%20%7B%0A%20%20%20%20%20%20%20%20%20%20%20%20layer.on%28%7B%0A%20%20%20%20%20%20%20%20%20%20%20%20%7D%29%3B%0A%20%20%20%20%20%20%20%20%7D%3B%0A%20%20%20%20%20%20%20%20var%20geo_json_e2b24ecfed8946379f702c7ce47b589b%20%3D%20L.geoJson%28null%2C%20%7B%0A%20%20%20%20%20%20%20%20%20%20%20%20%20%20%20%20onEachFeature%3A%20geo_json_e2b24ecfed8946379f702c7ce47b589b_onEachFeature%2C%0A%20%20%20%20%20%20%20%20%20%20%20%20%0A%20%20%20%20%20%20%20%20%7D%29%3B%0A%0A%20%20%20%20%20%20%20%20function%20geo_json_e2b24ecfed8946379f702c7ce47b589b_add%20%28data%29%20%7B%0A%20%20%20%20%20%20%20%20%20%20%20%20geo_json_e2b24ecfed8946379f702c7ce47b589b%0A%20%20%20%20%20%20%20%20%20%20%20%20%20%20%20%20.addData%28data%29%0A%20%20%20%20%20%20%20%20%20%20%20%20%20%20%20%20.addTo%28map_90eadbd5b1f240d9b11a328c2be77874%29%3B%0A%20%20%20%20%20%20%20%20%7D%0A%20%20%20%20%20%20%20%20%20%20%20%20geo_json_e2b24ecfed8946379f702c7ce47b589b_add%28%7B%22coordinates%22%3A%20%5B%5B%5B139.708159%2C%2035.659388%5D%2C%20%5B139.706786%2C%2035.48178%5D%2C%20%5B139.861968%2C%2035.48178%5D%2C%20%5B139.857848%2C%2035.649346%5D%2C%20%5B139.708159%2C%2035.659388%5D%5D%5D%2C%20%22type%22%3A%20%22Polygon%22%7D%29%3B%0A%0A%20%20%20%20%20%20%20%20%0A%3C/script%3E onload=\"this.contentDocument.open();this.contentDocument.write(    decodeURIComponent(this.getAttribute('data-html')));this.contentDocument.close();\" allowfullscreen webkitallowfullscreen mozallowfullscreen></iframe></div></div>"
      ],
      "text/plain": [
       "<folium.folium.Map at 0x10e586f50>"
      ]
     },
     "execution_count": 7,
     "metadata": {},
     "output_type": "execute_result"
    }
   ],
   "source": [
    "m = folium.Map([(AREA[0][1]+AREA[len(AREA)-1][1])/2,(AREA[0][0]+AREA[len(AREA)-1][0])/2], zoom_start=10)\n",
    "\n",
    "folium.GeoJson(str(object_name) + '.geojson').add_to(m)\n",
    "m"
   ]
  },
  {
   "cell_type": "code",
   "execution_count": 8,
   "metadata": {},
   "outputs": [],
   "source": [
    "products = api.query(footprint_geojson,\n",
    "                     date = ('20211110', '20211120'), # 取得希望期間の入力\n",
    "                     platformname = 'Sentinel-2',\n",
    "                     processinglevel = 'Level-2A',\n",
    "                     cloudcoverpercentage = (0,100)) # 被雲率（0％～100％）"
   ]
  },
  {
   "cell_type": "code",
   "execution_count": 9,
   "metadata": {},
   "outputs": [
    {
     "data": {
      "text/plain": [
       "2"
      ]
     },
     "execution_count": 9,
     "metadata": {},
     "output_type": "execute_result"
    }
   ],
   "source": [
    "len(products)"
   ]
  },
  {
   "cell_type": "code",
   "execution_count": 10,
   "metadata": {},
   "outputs": [
    {
     "data": {
      "text/html": [
       "<div>\n",
       "<style scoped>\n",
       "    .dataframe tbody tr th:only-of-type {\n",
       "        vertical-align: middle;\n",
       "    }\n",
       "\n",
       "    .dataframe tbody tr th {\n",
       "        vertical-align: top;\n",
       "    }\n",
       "\n",
       "    .dataframe thead th {\n",
       "        text-align: right;\n",
       "    }\n",
       "</style>\n",
       "<table border=\"1\" class=\"dataframe\">\n",
       "  <thead>\n",
       "    <tr style=\"text-align: right;\">\n",
       "      <th></th>\n",
       "      <th>title</th>\n",
       "      <th>link</th>\n",
       "      <th>link_alternative</th>\n",
       "      <th>link_icon</th>\n",
       "      <th>summary</th>\n",
       "      <th>ondemand</th>\n",
       "      <th>generationdate</th>\n",
       "      <th>beginposition</th>\n",
       "      <th>endposition</th>\n",
       "      <th>ingestiondate</th>\n",
       "      <th>...</th>\n",
       "      <th>producttype</th>\n",
       "      <th>platformidentifier</th>\n",
       "      <th>orbitdirection</th>\n",
       "      <th>platformserialidentifier</th>\n",
       "      <th>processinglevel</th>\n",
       "      <th>datastripidentifier</th>\n",
       "      <th>granuleidentifier</th>\n",
       "      <th>identifier</th>\n",
       "      <th>uuid</th>\n",
       "      <th>geometry</th>\n",
       "    </tr>\n",
       "  </thead>\n",
       "  <tbody>\n",
       "    <tr>\n",
       "      <th>d01bf938-8494-43f3-817b-3780f469064a</th>\n",
       "      <td>S2A_MSIL2A_20211113T012911_N0301_R074_T54SUE_2...</td>\n",
       "      <td>https://scihub.copernicus.eu/dhus/odata/v1/Pro...</td>\n",
       "      <td>https://scihub.copernicus.eu/dhus/odata/v1/Pro...</td>\n",
       "      <td>https://scihub.copernicus.eu/dhus/odata/v1/Pro...</td>\n",
       "      <td>Date: 2021-11-13T01:29:11.024Z, Instrument: MS...</td>\n",
       "      <td>false</td>\n",
       "      <td>2021-11-13 04:01:03</td>\n",
       "      <td>2021-11-13 01:29:11.024</td>\n",
       "      <td>2021-11-13 01:29:11.024</td>\n",
       "      <td>2021-11-13 06:25:40.856</td>\n",
       "      <td>...</td>\n",
       "      <td>S2MSI2A</td>\n",
       "      <td>2015-028A</td>\n",
       "      <td>DESCENDING</td>\n",
       "      <td>Sentinel-2A</td>\n",
       "      <td>Level-2A</td>\n",
       "      <td>S2A_OPER_MSI_L2A_DS_VGS4_20211113T040103_S2021...</td>\n",
       "      <td>S2A_OPER_MSI_L2A_TL_VGS4_20211113T040103_A0333...</td>\n",
       "      <td>S2A_MSIL2A_20211113T012911_N0301_R074_T54SUE_2...</td>\n",
       "      <td>d01bf938-8494-43f3-817b-3780f469064a</td>\n",
       "      <td>MULTIPOLYGON (((138.80483 35.13500, 140.00972 ...</td>\n",
       "    </tr>\n",
       "    <tr>\n",
       "      <th>c6135c85-ee17-4dc8-9bc9-27a68edd9890</th>\n",
       "      <td>S2B_MSIL2A_20211118T012939_N0301_R074_T54SUE_2...</td>\n",
       "      <td>https://scihub.copernicus.eu/dhus/odata/v1/Pro...</td>\n",
       "      <td>https://scihub.copernicus.eu/dhus/odata/v1/Pro...</td>\n",
       "      <td>https://scihub.copernicus.eu/dhus/odata/v1/Pro...</td>\n",
       "      <td>Date: 2021-11-18T01:29:39.024Z, Instrument: MS...</td>\n",
       "      <td>false</td>\n",
       "      <td>2021-11-18 03:43:40</td>\n",
       "      <td>2021-11-18 01:29:39.024</td>\n",
       "      <td>2021-11-18 01:29:39.024</td>\n",
       "      <td>2021-11-18 05:56:05.105</td>\n",
       "      <td>...</td>\n",
       "      <td>S2MSI2A</td>\n",
       "      <td>2017-013A</td>\n",
       "      <td>DESCENDING</td>\n",
       "      <td>Sentinel-2B</td>\n",
       "      <td>Level-2A</td>\n",
       "      <td>S2B_OPER_MSI_L2A_DS_VGS4_20211118T034340_S2021...</td>\n",
       "      <td>S2B_OPER_MSI_L2A_TL_VGS4_20211118T034340_A0245...</td>\n",
       "      <td>S2B_MSIL2A_20211118T012939_N0301_R074_T54SUE_2...</td>\n",
       "      <td>c6135c85-ee17-4dc8-9bc9-27a68edd9890</td>\n",
       "      <td>MULTIPOLYGON (((138.80483 35.13500, 140.00972 ...</td>\n",
       "    </tr>\n",
       "  </tbody>\n",
       "</table>\n",
       "<p>2 rows × 41 columns</p>\n",
       "</div>"
      ],
      "text/plain": [
       "                                                                                  title  \\\n",
       "d01bf938-8494-43f3-817b-3780f469064a  S2A_MSIL2A_20211113T012911_N0301_R074_T54SUE_2...   \n",
       "c6135c85-ee17-4dc8-9bc9-27a68edd9890  S2B_MSIL2A_20211118T012939_N0301_R074_T54SUE_2...   \n",
       "\n",
       "                                                                                   link  \\\n",
       "d01bf938-8494-43f3-817b-3780f469064a  https://scihub.copernicus.eu/dhus/odata/v1/Pro...   \n",
       "c6135c85-ee17-4dc8-9bc9-27a68edd9890  https://scihub.copernicus.eu/dhus/odata/v1/Pro...   \n",
       "\n",
       "                                                                       link_alternative  \\\n",
       "d01bf938-8494-43f3-817b-3780f469064a  https://scihub.copernicus.eu/dhus/odata/v1/Pro...   \n",
       "c6135c85-ee17-4dc8-9bc9-27a68edd9890  https://scihub.copernicus.eu/dhus/odata/v1/Pro...   \n",
       "\n",
       "                                                                              link_icon  \\\n",
       "d01bf938-8494-43f3-817b-3780f469064a  https://scihub.copernicus.eu/dhus/odata/v1/Pro...   \n",
       "c6135c85-ee17-4dc8-9bc9-27a68edd9890  https://scihub.copernicus.eu/dhus/odata/v1/Pro...   \n",
       "\n",
       "                                                                                summary  \\\n",
       "d01bf938-8494-43f3-817b-3780f469064a  Date: 2021-11-13T01:29:11.024Z, Instrument: MS...   \n",
       "c6135c85-ee17-4dc8-9bc9-27a68edd9890  Date: 2021-11-18T01:29:39.024Z, Instrument: MS...   \n",
       "\n",
       "                                     ondemand      generationdate  \\\n",
       "d01bf938-8494-43f3-817b-3780f469064a    false 2021-11-13 04:01:03   \n",
       "c6135c85-ee17-4dc8-9bc9-27a68edd9890    false 2021-11-18 03:43:40   \n",
       "\n",
       "                                               beginposition  \\\n",
       "d01bf938-8494-43f3-817b-3780f469064a 2021-11-13 01:29:11.024   \n",
       "c6135c85-ee17-4dc8-9bc9-27a68edd9890 2021-11-18 01:29:39.024   \n",
       "\n",
       "                                                 endposition  \\\n",
       "d01bf938-8494-43f3-817b-3780f469064a 2021-11-13 01:29:11.024   \n",
       "c6135c85-ee17-4dc8-9bc9-27a68edd9890 2021-11-18 01:29:39.024   \n",
       "\n",
       "                                               ingestiondate  ...  \\\n",
       "d01bf938-8494-43f3-817b-3780f469064a 2021-11-13 06:25:40.856  ...   \n",
       "c6135c85-ee17-4dc8-9bc9-27a68edd9890 2021-11-18 05:56:05.105  ...   \n",
       "\n",
       "                                      producttype  platformidentifier  \\\n",
       "d01bf938-8494-43f3-817b-3780f469064a      S2MSI2A           2015-028A   \n",
       "c6135c85-ee17-4dc8-9bc9-27a68edd9890      S2MSI2A           2017-013A   \n",
       "\n",
       "                                      orbitdirection  \\\n",
       "d01bf938-8494-43f3-817b-3780f469064a      DESCENDING   \n",
       "c6135c85-ee17-4dc8-9bc9-27a68edd9890      DESCENDING   \n",
       "\n",
       "                                      platformserialidentifier  \\\n",
       "d01bf938-8494-43f3-817b-3780f469064a               Sentinel-2A   \n",
       "c6135c85-ee17-4dc8-9bc9-27a68edd9890               Sentinel-2B   \n",
       "\n",
       "                                      processinglevel  \\\n",
       "d01bf938-8494-43f3-817b-3780f469064a         Level-2A   \n",
       "c6135c85-ee17-4dc8-9bc9-27a68edd9890         Level-2A   \n",
       "\n",
       "                                                                    datastripidentifier  \\\n",
       "d01bf938-8494-43f3-817b-3780f469064a  S2A_OPER_MSI_L2A_DS_VGS4_20211113T040103_S2021...   \n",
       "c6135c85-ee17-4dc8-9bc9-27a68edd9890  S2B_OPER_MSI_L2A_DS_VGS4_20211118T034340_S2021...   \n",
       "\n",
       "                                                                      granuleidentifier  \\\n",
       "d01bf938-8494-43f3-817b-3780f469064a  S2A_OPER_MSI_L2A_TL_VGS4_20211113T040103_A0333...   \n",
       "c6135c85-ee17-4dc8-9bc9-27a68edd9890  S2B_OPER_MSI_L2A_TL_VGS4_20211118T034340_A0245...   \n",
       "\n",
       "                                                                             identifier  \\\n",
       "d01bf938-8494-43f3-817b-3780f469064a  S2A_MSIL2A_20211113T012911_N0301_R074_T54SUE_2...   \n",
       "c6135c85-ee17-4dc8-9bc9-27a68edd9890  S2B_MSIL2A_20211118T012939_N0301_R074_T54SUE_2...   \n",
       "\n",
       "                                                                      uuid  \\\n",
       "d01bf938-8494-43f3-817b-3780f469064a  d01bf938-8494-43f3-817b-3780f469064a   \n",
       "c6135c85-ee17-4dc8-9bc9-27a68edd9890  c6135c85-ee17-4dc8-9bc9-27a68edd9890   \n",
       "\n",
       "                                                                               geometry  \n",
       "d01bf938-8494-43f3-817b-3780f469064a  MULTIPOLYGON (((138.80483 35.13500, 140.00972 ...  \n",
       "c6135c85-ee17-4dc8-9bc9-27a68edd9890  MULTIPOLYGON (((138.80483 35.13500, 140.00972 ...  \n",
       "\n",
       "[2 rows x 41 columns]"
      ]
     },
     "execution_count": 10,
     "metadata": {},
     "output_type": "execute_result"
    }
   ],
   "source": [
    "products_gdf = api.to_geodataframe(products)\n",
    "products_gdf_sorted = products_gdf.sort_values(['cloudcoverpercentage'], ascending=[True])\n",
    "products_gdf_sorted"
   ]
  },
  {
   "cell_type": "code",
   "execution_count": null,
   "metadata": {},
   "outputs": [],
   "source": [
    "# ファイルが重いため、処理時間がかかりやすい\n",
    "uuid = products_gdf_sorted.iloc[0]['uuid']\n",
    "product_title = products_gdf_sorted.iloc[0]['title']\n",
    "api.download(uuid)"
   ]
  }
 ],
 "metadata": {
  "kernelspec": {
   "display_name": "For_GeoAnalysis",
   "language": "python",
   "name": "python3"
  },
  "language_info": {
   "codemirror_mode": {
    "name": "ipython",
    "version": 3
   },
   "file_extension": ".py",
   "mimetype": "text/x-python",
   "name": "python",
   "nbconvert_exporter": "python",
   "pygments_lexer": "ipython3",
   "version": "3.10.6"
  },
  "orig_nbformat": 4
 },
 "nbformat": 4,
 "nbformat_minor": 2
}
