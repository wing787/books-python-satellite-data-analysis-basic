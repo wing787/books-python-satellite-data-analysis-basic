{
  "nbformat": 4,
  "nbformat_minor": 0,
  "metadata": {
    "colab": {
      "provenance": [],
      "mount_file_id": "1xGSTZLFo2_kOkAlOhPGuQxPjMuz2zd2U",
      "authorship_tag": "ABX9TyOjMIGFY1u+X2EKhGJN5WAX",
      "include_colab_link": true
    },
    "kernelspec": {
      "name": "python3",
      "display_name": "Python 3"
    },
    "language_info": {
      "name": "python"
    }
  },
  "cells": [
    {
      "cell_type": "markdown",
      "metadata": {
        "id": "view-in-github",
        "colab_type": "text"
      },
      "source": [
        "<a href=\"https://colab.research.google.com/github/wing787/books-python-satellite-data-analysis-basic/blob/main/2_use_STAC.ipynb\" target=\"_parent\"><img src=\"https://colab.research.google.com/assets/colab-badge.svg\" alt=\"Open In Colab\"/></a>"
      ]
    },
    {
      "cell_type": "code",
      "execution_count": null,
      "metadata": {
        "id": "kUE2zBuYN7xo"
      },
      "outputs": [],
      "source": [
        "# Colab利用時には以下のコマンドを実行する（初回のみ）←実行済み\n",
        "# !apt-get install -y libspatialindex-dev"
      ]
    },
    {
      "cell_type": "code",
      "source": [
        "# STACを利用するために、あらためてライブラリのインストールを行う。\n",
        "# Colab利用時にはインストール後ランタイムを再起動する。（放置していて、ランタイム接続が切れていれば必ず再度実行）\n",
        "# !pip install cartopy\n",
        "# !pip install pygeos\n",
        "# !pip install rtree\n",
        "# !pip install sat-search\n",
        "# !pip install rasterio\n",
        "# !pip install pystac-client"
      ],
      "metadata": {
        "id": "ya7LkgC8OPcr"
      },
      "execution_count": null,
      "outputs": []
    },
    {
      "cell_type": "code",
      "source": [
        "import os, json\n",
        "from shapely.geometry import MultiPolygon, Polygon, box\n",
        "from fiona.crs import from_epsg\n",
        "import numpy as np\n",
        "from pystac_client import Client\n",
        "from satsearch import Search\n",
        "from io import BytesIO\n",
        "import urllib\n",
        "from PIL import Image\n",
        "import geopandas as gpd\n",
        "import matplotlib.pyplot as plt\n",
        "import requests\n",
        "import warnings\n",
        "import rasterio as rio\n",
        "from rasterio.mask import mask\n",
        "from rasterio.plot import show\n",
        "from osgeo import gdal\n",
        "warnings.filterwarnings('ignore')\n",
        "\n",
        "print(\"done\")"
      ],
      "metadata": {
        "id": "YSyKdmJXOuNP"
      },
      "execution_count": null,
      "outputs": []
    },
    {
      "cell_type": "code",
      "source": [
        "AREA = [\n",
        "    [\n",
        "        139.708159,\n",
        "        35.6593884\n",
        "    ],\n",
        "    [\n",
        "        139.7067857,\n",
        "        35.4817801\n",
        "    ],\n",
        "    [\n",
        "        139.8619676,\n",
        "        35.4817801\n",
        "    ],\n",
        "    [\n",
        "        139.8578477,\n",
        "        35.6493456\n",
        "    ],\n",
        "    [\n",
        "        139.708159,\n",
        "        35.6593884\n",
        "    ]\n",
        "]\n",
        "\n",
        "# 左回りもしくは右回りに対応。\n",
        "# 地図を左に大きく動かして場所を選択したり、右側に何周かして場所を選択したりすると、上記の経度が-180や、+180度を超えたりする。\n",
        "# その際には、下のコードを実行する。\n",
        "for i in range(len(AREA)):\n",
        "    if AREA[i][0] >= 0:\n",
        "        AREA[i][0] = AREA[i][0]%360\n",
        "    else:\n",
        "        AREA[i][0] = -(abs(AREA[i][0]%360) + 360)"
      ],
      "metadata": {
        "id": "4TGwn712Q5xj"
      },
      "execution_count": null,
      "outputs": []
    },
    {
      "cell_type": "code",
      "source": [
        "# AREAから最小緯度・経度、最大緯度・経度を取得する。\n",
        "areaLon = []\n",
        "areaLat = []\n",
        "# iterating each number in list\n",
        "for coordinate in AREA:\n",
        "    areaLon.append(coordinate[0])\n",
        "    areaLat.append(coordinate[1])\n",
        "\n",
        "minLon = np.min(areaLon)  # min longitude\n",
        "maxLon = np.max(areaLon)  # max longitude\n",
        "minLat = np.min(areaLat)  # min latitude\n",
        "maxLat = np.max(areaLat)  # max latitude\n",
        "\n",
        "# 取得範囲を指定するための関数を定義\n",
        "def selSquare(lon, lat, delta_lon, delta_lat):\n",
        "  c1 = [lon + delta_lon, lat + delta_lat]\n",
        "  c2 = [lon + delta_lon, lat - delta_lat]\n",
        "  c3 = [lon - delta_lon, lat + delta_lat]\n",
        "  c4 = [lon - delta_lon, lat - delta_lat]\n",
        "  geometry = {'type': 'Polygon', 'coordinates': [[c1, c2, c3, c4, c1]]}\n",
        "  return geometry"
      ],
      "metadata": {
        "id": "bgVRqgTSQuyf"
      },
      "execution_count": null,
      "outputs": []
    },
    {
      "cell_type": "code",
      "source": [
        "bbox = selSquare(minLon, minLat, maxLon, maxLat)\n",
        "dates = '2021-04-10/2021-06-10'  # '20210410', '20210610'\n",
        "\n",
        "\n",
        "\n",
        "API_URL = 'https://earth-search.aws.element84.com/v0'\n",
        "COLLECTION = \"sentinel-s2-l2a-cogs\"  # Sentinel-2, Level 2A (BOA)\n",
        "s2STAC = Client.open(API_URL, headers=[])\n",
        "\n",
        "\n",
        "s2Search = s2STAC.search (\n",
        "   intersects = bbox,\n",
        "   datetime = dates,\n",
        "   query = {\"eo:cloud_cover\": {\"lt\": 20}, \"sentinel:valid_cloud_cover\": {\"eq\": True}},\n",
        "   collections = COLLECTION)\n",
        "\n",
        "s2_items = [i.to_dict() for i in s2Search.get_items()]\n",
        "print(f\"{len(s2_items)} のシーンを取得\")"
      ],
      "metadata": {
        "id": "5LMm4aVHR37O"
      },
      "execution_count": null,
      "outputs": []
    },
    {
      "cell_type": "code",
      "source": [
        "items = s2Search.get_all_items()\n",
        "gf = gpd.GeoDataFrame.from_features(items.to_dict(), crs=\"epsg:4326\")"
      ],
      "metadata": {
        "id": "mdGhJIWkR8d-"
      },
      "execution_count": null,
      "outputs": []
    },
    {
      "cell_type": "code",
      "source": [
        "# 雲量で並び替え\n",
        "gfSroted = gf.sort_values('eo:cloud_cover').reset_index(drop=True)\n",
        "gfSroted.head()"
      ],
      "metadata": {
        "id": "LJBd9W_YTLNQ"
      },
      "execution_count": null,
      "outputs": []
    },
    {
      "cell_type": "code",
      "source": [
        "# 最も雲の量が少ないシーンを選択し、サムネイル画像も取得する関数を定義します。\n",
        "def sel_items(scene_items, product_id):\n",
        "  item = [x.assets for x in scene_items\\\n",
        "         if x.properties['sentinel:product_id'] == product_id]\n",
        "  thumbUrl = [x.assets['thumbnail'].href for x in scene_items\\\n",
        "             if x.properties['sentinel:product_id'] == product_id]\n",
        "  return item, thumbUrl\n",
        "\n",
        "selected_item, thumbUrl = sel_items(items, gfSorted['sentinel:product_id'][0])\n",
        "print(thumbUrl)\n",
        "print(selected_item)\n",
        "\n",
        "thumbImg = Image.open(BytesIO(requests.get(thumbUrl[0]).content))\n",
        "plt.figure(figsize=(5,5))\n",
        "plt.imshow(thumbImg)"
      ],
      "metadata": {
        "id": "p9sbga8hTba2"
      },
      "execution_count": null,
      "outputs": []
    },
    {
      "cell_type": "code",
      "source": [
        "def getPreview(thumbList, r_num, c_num, figsize_x=12, figsize_y=12):\n",
        "  \"\"\"\n",
        "  サムネイル画像を指定した引数に応じて行列状に表示\n",
        "  r_num: 行数\n",
        "  c_num: 列数\n",
        "  \"\"\"\n",
        "  thumbs = thumbList\n",
        "  f, ax_list = plt.subplots(r_num, c_num, figsize=(figsize_x, figsize_y))\n",
        "  for row_num, ax_row in enumerate(ax_list):\n",
        "    for col_num, ax in enumerate(ax_row):\n",
        "      if len(thumbs) < r_num * c_num:\n",
        "        len_shortrage = r_num * c_num - len(thumbs)  # 行列の不足分を算出\n",
        "        count = row_num * c_num + col_num\n",
        "        if count < len(thumbs):\n",
        "          ax.label_outer()  # サブプロットのタイトルと、軸のタイトルが重複しないようにする\n",
        "          ax.imshow(io.imread(thumbs[row_num * c_num + col_num]))\n",
        "          ax.set_title(thumbs[row_num * c_num + col_num][60:79])\n",
        "        else:\n",
        "          for i in range(len_shortrage):\n",
        "            blank = np.zeros([100, 100, 3], dtype=np.unit8)\n",
        "            blank.fill(255)\n",
        "            ax.label_outer()\n",
        "            ax.imshow(blank)\n",
        "      else:\n",
        "        ax.label_outer()\n",
        "        ax.imshow(io.imread(thumbs[row_num * c_num + col_num]))\n",
        "        ax.set_title(thumbs[row_num * c_num + col_num][60:79])\n",
        "\n",
        "  return plt.show()"
      ],
      "metadata": {
        "id": "2PjqzdcUT91c"
      },
      "execution_count": null,
      "outputs": []
    },
    {
      "cell_type": "code",
      "source": [
        "allthumburl = [catalog[gfSroted.id[i]]['thumbnail'].urlpath for i in range(12)]\n",
        "getPreview(allthumburl[0:13], 3, 4, 16, 16)"
      ],
      "metadata": {
        "id": "x6IoD3ODW7GC"
      },
      "execution_count": null,
      "outputs": []
    },
    {
      "cell_type": "code",
      "source": [
        "# 雲量が最も少ない画像を取得\n",
        "item = catalog[gfSroted.id[4]]\n",
        "\n",
        "# サムネイル画像の表示（RGB画像）\n",
        "Image(item['thumbnail'].urlpath)"
      ],
      "metadata": {
        "id": "f5ayWVeGXZXQ"
      },
      "execution_count": null,
      "outputs": []
    },
    {
      "cell_type": "code",
      "source": [
        "bandLists = ['B04', 'B03', 'B02']\n",
        "file_url = [item[band].metadata['href'] for band in bandLists]\n",
        "print(file_url)"
      ],
      "metadata": {
        "id": "l2-g6oyDXo1G"
      },
      "execution_count": null,
      "outputs": []
    },
    {
      "cell_type": "code",
      "source": [
        "# 画像の作成フォルダ作成\n",
        "folder_name = 'sentinel2COG'\n",
        "os.makedirs(folder_name, exist_ok=True)\n",
        "RGB_dir = 'content/' + folder_name"
      ],
      "metadata": {
        "id": "tV9RqIrrX5V-"
      },
      "execution_count": null,
      "outputs": []
    },
    {
      "cell_type": "code",
      "source": [
        "# 参照：https://automating-gis-processes.github.io/CSC18/lessons/L6/clipping-raster.html\n",
        "\n",
        "bbox = box(minLon, minLat, maxLon, maxLat)\n",
        "geo = gpd.GeoDataFrame({'geometry': bbox}, index=[0], crs=from_epsg(4326))\n",
        "geo = geo.to_crs(crs='epsg:32654')  # Sentinel-2の画像に合わせる\n",
        "\n",
        "def getFeatures(gdf):\n",
        "  \"\"\"rasterioで読み取れる形のデータへ変換するための関数\"\"\"\n",
        "  return [json.loads(gdf.to_json())['features'][0]['geometry']]\n",
        "\n",
        "\n",
        "coords = getFeatures(geo)\n",
        "print(coords)"
      ],
      "metadata": {
        "id": "HMYJBbs8YJOu"
      },
      "execution_count": null,
      "outputs": []
    },
    {
      "cell_type": "code",
      "source": [
        "# read image\n",
        "b2 = rio.open(file_url[2])\n",
        "b3 = rio.open(file_url[1])\n",
        "b4 = rio.open(file_url[0])\n",
        "\n",
        "# 出力ファイル名\n",
        "RGB_path = os.path.join(RGB_dir, 'sentinel-2_l2a-cogs' + '.tif')\n",
        "\n",
        "# 念の為\n",
        "if not os.path.exists(RGB_dir):\n",
        "    os.makedirs(RGB_dir)\n",
        "\n",
        "# GeoTIFFの作成\n",
        "RGB_color = rio.open(RGB_path,'w',driver='Gtiff', # driverにGtiff(GeoTIFF)\n",
        "                    width=b4.width, height=b4.height, # 画像の高さや幅を指定。B04のバンドと同じ大きさにしています\n",
        "                    count=3, # 3つのバンドを利用 (B02, B03, B04)\n",
        "                    crs=b4.crs, # crsもB04と同様。epsg:32654\n",
        "                    transform=b4.transform, # データに対する変換も同様のもの\n",
        "                    dtype=rio.uint16 # データ型を指定\n",
        "                    )\n",
        "# 各々のバンド情報をRGB_colorに書き込み\n",
        "RGB_color.write(b2.read(1), 3)  # 青\n",
        "RGB_color.write(b3.read(1), 2)  # 緑\n",
        "RGB_color.write(b4.read(1), 1)  # 赤\n",
        "RGB_color.close()\n",
        "\n",
        "with rio.open(RGB_path) as src:\n",
        "  out_image, out_transform = rio.mask.mask(src, coords, crop=True)  # mask処理の実行\n",
        "  out_meta = src.meta  # 作成する画像の情報はもともとの画像と同様のものにする\n",
        "\n",
        "# メタ情報の更新\n",
        "out_meta.update({'driver': 'GTiff',\n",
        "                'height': out_image.shape[1],\n",
        "                'width': out_image.shape[2],\n",
        "                'transform': out_transform})\n",
        "\n",
        "\n",
        "# 画像の書き出し\n",
        "with rio.open(RGB_path, 'w', **out_meta) as dest:\n",
        "  dest.write(out_image)\n",
        "\n",
        "# 画像表示のため8bit形式で書き出し、画像の色味も調整する\n",
        "scale = '-scale 0 255 0 25'\n",
        "options_list = ['-ot Byte', '-of Gtiff', scale]\n",
        "options_string = ' '.join(options_list)\n",
        "\n",
        "gdal.Translate(os.path.join(RGB_dir, 'sentinel-2_l2a-cogs_Masked' + '.tif'), os.path.join(RGB_dir, 'sentinel-2_l2a-cogs' + '.tif'), options = options_string)\n",
        "\n",
        "print('done')"
      ],
      "metadata": {
        "id": "Vx3xbbTsDRps"
      },
      "execution_count": null,
      "outputs": []
    },
    {
      "cell_type": "code",
      "source": [
        "plt.figure(figsize=(6, 10))\n",
        "RGB_2017octCOG = rio.open('./content/sentinel2COG/sentinel-2_l2a-cogs_Masked.tif')\n",
        "show(RGB_2017octCOG.read([1,2,3]))"
      ],
      "metadata": {
        "id": "yaUqdA5vLEPJ"
      },
      "execution_count": null,
      "outputs": []
    }
  ]
}